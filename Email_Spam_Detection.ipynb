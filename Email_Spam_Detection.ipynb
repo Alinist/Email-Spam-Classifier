{
  "cells": [
    {
      "cell_type": "markdown",
      "metadata": {
        "id": "hSr2wikXpUMt"
      },
      "source": [
        "Import Lib"
      ]
    },
    {
      "cell_type": "code",
      "execution_count": 1,
      "metadata": {
        "id": "J_x_KSSqb4mN"
      },
      "outputs": [],
      "source": [
        "import pandas as pd\n",
        "import numpy as np\n",
        "import matplotlib.pyplot as plt\n",
        "import seaborn as sns\n",
        "import pickle\n",
        "\n",
        "#Train and Test Spliting\n",
        "from sklearn.model_selection import train_test_split\n",
        "\n",
        "#Models\n",
        "from sklearn.pipeline import Pipeline\n",
        "from sklearn.feature_extraction.text import TfidfVectorizer\n",
        "from sklearn.linear_model import LogisticRegression\n",
        "from sklearn import tree, svm\n",
        "from sklearn.neighbors import KNeighborsClassifier\n",
        "from sklearn.ensemble import RandomForestClassifier\n",
        "from sklearn.naive_bayes import MultinomialNB\n",
        "\n",
        "#Cross Validation\n",
        "from sklearn.model_selection import cross_val_score, KFold\n",
        "from sklearn.svm import SVC\n",
        "from sklearn.datasets import load_iris\n",
        "\n",
        "#Score\n",
        "from sklearn.metrics import accuracy_score, confusion_matrix, classification_report,ConfusionMatrixDisplay\n",
        "\n",
        "%matplotlib inline"
      ]
    },
    {
      "cell_type": "markdown",
      "metadata": {
        "id": "7OQ3yAmqpUMu"
      },
      "source": [
        "Import Data"
      ]
    },
    {
      "cell_type": "code",
      "execution_count": 2,
      "metadata": {
        "id": "g4y9JIjacRaw"
      },
      "outputs": [],
      "source": [
        "data = pd.read_csv(\"./content/spam_ham_dataset.csv\")\n"
      ]
    },
    {
      "cell_type": "markdown",
      "metadata": {
        "id": "-PXrwWfVpUMv"
      },
      "source": [
        "Basic Analysis"
      ]
    },
    {
      "cell_type": "code",
      "execution_count": 3,
      "metadata": {
        "colab": {
          "base_uri": "https://localhost:8080/",
          "height": 206
        },
        "id": "IhBH3qHBdg1o",
        "outputId": "053c582d-9812-4469-81e3-b0cd51d6beb2"
      },
      "outputs": [
        {
          "data": {
            "text/html": [
              "<div>\n",
              "<style scoped>\n",
              "    .dataframe tbody tr th:only-of-type {\n",
              "        vertical-align: middle;\n",
              "    }\n",
              "\n",
              "    .dataframe tbody tr th {\n",
              "        vertical-align: top;\n",
              "    }\n",
              "\n",
              "    .dataframe thead th {\n",
              "        text-align: right;\n",
              "    }\n",
              "</style>\n",
              "<table border=\"1\" class=\"dataframe\">\n",
              "  <thead>\n",
              "    <tr style=\"text-align: right;\">\n",
              "      <th></th>\n",
              "      <th># sent emails</th>\n",
              "      <th>label</th>\n",
              "      <th>text</th>\n",
              "      <th>label_num</th>\n",
              "    </tr>\n",
              "  </thead>\n",
              "  <tbody>\n",
              "    <tr>\n",
              "      <th>0</th>\n",
              "      <td>605</td>\n",
              "      <td>ham</td>\n",
              "      <td>Subject: enron methanol ; meter # : 988291\\r\\n...</td>\n",
              "      <td>0</td>\n",
              "    </tr>\n",
              "    <tr>\n",
              "      <th>1</th>\n",
              "      <td>2349</td>\n",
              "      <td>ham</td>\n",
              "      <td>Subject: hpl nom for january 9 , 2001\\r\\n( see...</td>\n",
              "      <td>0</td>\n",
              "    </tr>\n",
              "    <tr>\n",
              "      <th>2</th>\n",
              "      <td>3624</td>\n",
              "      <td>ham</td>\n",
              "      <td>Subject: neon retreat\\r\\nho ho ho , we ' re ar...</td>\n",
              "      <td>0</td>\n",
              "    </tr>\n",
              "    <tr>\n",
              "      <th>3</th>\n",
              "      <td>4685</td>\n",
              "      <td>spam</td>\n",
              "      <td>Subject: photoshop , windows , office . cheap ...</td>\n",
              "      <td>1</td>\n",
              "    </tr>\n",
              "    <tr>\n",
              "      <th>4</th>\n",
              "      <td>2030</td>\n",
              "      <td>ham</td>\n",
              "      <td>Subject: re : indian springs\\r\\nthis deal is t...</td>\n",
              "      <td>0</td>\n",
              "    </tr>\n",
              "  </tbody>\n",
              "</table>\n",
              "</div>"
            ],
            "text/plain": [
              "   # sent emails  label                                               text  \\\n",
              "0             605   ham  Subject: enron methanol ; meter # : 988291\\r\\n...   \n",
              "1            2349   ham  Subject: hpl nom for january 9 , 2001\\r\\n( see...   \n",
              "2            3624   ham  Subject: neon retreat\\r\\nho ho ho , we ' re ar...   \n",
              "3            4685  spam  Subject: photoshop , windows , office . cheap ...   \n",
              "4            2030   ham  Subject: re : indian springs\\r\\nthis deal is t...   \n",
              "\n",
              "   label_num  \n",
              "0          0  \n",
              "1          0  \n",
              "2          0  \n",
              "3          1  \n",
              "4          0  "
            ]
          },
          "execution_count": 3,
          "metadata": {},
          "output_type": "execute_result"
        }
      ],
      "source": [
        "data.head()"
      ]
    },
    {
      "cell_type": "code",
      "execution_count": 4,
      "metadata": {
        "colab": {
          "base_uri": "https://localhost:8080/",
          "height": 206
        },
        "id": "bY3x2DnVdlP4",
        "outputId": "e8eb26eb-6c27-49c4-c801-60b33095b37f"
      },
      "outputs": [
        {
          "data": {
            "text/html": [
              "<div>\n",
              "<style scoped>\n",
              "    .dataframe tbody tr th:only-of-type {\n",
              "        vertical-align: middle;\n",
              "    }\n",
              "\n",
              "    .dataframe tbody tr th {\n",
              "        vertical-align: top;\n",
              "    }\n",
              "\n",
              "    .dataframe thead th {\n",
              "        text-align: right;\n",
              "    }\n",
              "</style>\n",
              "<table border=\"1\" class=\"dataframe\">\n",
              "  <thead>\n",
              "    <tr style=\"text-align: right;\">\n",
              "      <th></th>\n",
              "      <th># sent emails</th>\n",
              "      <th>label</th>\n",
              "      <th>text</th>\n",
              "      <th>label_num</th>\n",
              "    </tr>\n",
              "  </thead>\n",
              "  <tbody>\n",
              "    <tr>\n",
              "      <th>5166</th>\n",
              "      <td>1518</td>\n",
              "      <td>ham</td>\n",
              "      <td>Subject: put the 10 on the ft\\r\\nthe transport...</td>\n",
              "      <td>0</td>\n",
              "    </tr>\n",
              "    <tr>\n",
              "      <th>5167</th>\n",
              "      <td>404</td>\n",
              "      <td>ham</td>\n",
              "      <td>Subject: 3 / 4 / 2000 and following noms\\r\\nhp...</td>\n",
              "      <td>0</td>\n",
              "    </tr>\n",
              "    <tr>\n",
              "      <th>5168</th>\n",
              "      <td>2933</td>\n",
              "      <td>ham</td>\n",
              "      <td>Subject: calpine daily gas nomination\\r\\n&gt;\\r\\n...</td>\n",
              "      <td>0</td>\n",
              "    </tr>\n",
              "    <tr>\n",
              "      <th>5169</th>\n",
              "      <td>1409</td>\n",
              "      <td>ham</td>\n",
              "      <td>Subject: industrial worksheets for august 2000...</td>\n",
              "      <td>0</td>\n",
              "    </tr>\n",
              "    <tr>\n",
              "      <th>5170</th>\n",
              "      <td>4807</td>\n",
              "      <td>spam</td>\n",
              "      <td>Subject: important online banking alert\\r\\ndea...</td>\n",
              "      <td>1</td>\n",
              "    </tr>\n",
              "  </tbody>\n",
              "</table>\n",
              "</div>"
            ],
            "text/plain": [
              "      # sent emails  label                                               text  \\\n",
              "5166            1518   ham  Subject: put the 10 on the ft\\r\\nthe transport...   \n",
              "5167             404   ham  Subject: 3 / 4 / 2000 and following noms\\r\\nhp...   \n",
              "5168            2933   ham  Subject: calpine daily gas nomination\\r\\n>\\r\\n...   \n",
              "5169            1409   ham  Subject: industrial worksheets for august 2000...   \n",
              "5170            4807  spam  Subject: important online banking alert\\r\\ndea...   \n",
              "\n",
              "      label_num  \n",
              "5166          0  \n",
              "5167          0  \n",
              "5168          0  \n",
              "5169          0  \n",
              "5170          1  "
            ]
          },
          "execution_count": 4,
          "metadata": {},
          "output_type": "execute_result"
        }
      ],
      "source": [
        "data.tail()"
      ]
    },
    {
      "cell_type": "code",
      "execution_count": 5,
      "metadata": {
        "colab": {
          "base_uri": "https://localhost:8080/"
        },
        "id": "Bfrxgipbd1hP",
        "outputId": "c12cd43e-7047-4c57-97a7-4f8805129657"
      },
      "outputs": [
        {
          "name": "stdout",
          "output_type": "stream",
          "text": [
            "<class 'pandas.core.frame.DataFrame'>\n",
            "RangeIndex: 5171 entries, 0 to 5170\n",
            "Data columns (total 4 columns):\n",
            " #   Column          Non-Null Count  Dtype \n",
            "---  ------          --------------  ----- \n",
            " 0   # sent emails   5171 non-null   int64 \n",
            " 1   label           5171 non-null   object\n",
            " 2   text            5171 non-null   object\n",
            " 3   label_num       5171 non-null   int64 \n",
            "dtypes: int64(2), object(2)\n",
            "memory usage: 161.7+ KB\n"
          ]
        }
      ],
      "source": [
        "data.info()"
      ]
    },
    {
      "cell_type": "code",
      "execution_count": 6,
      "metadata": {
        "colab": {
          "base_uri": "https://localhost:8080/",
          "height": 300
        },
        "id": "FVUnFNUld4v3",
        "outputId": "de248776-770b-4192-f301-83f461ea8829"
      },
      "outputs": [
        {
          "data": {
            "text/html": [
              "<div>\n",
              "<style scoped>\n",
              "    .dataframe tbody tr th:only-of-type {\n",
              "        vertical-align: middle;\n",
              "    }\n",
              "\n",
              "    .dataframe tbody tr th {\n",
              "        vertical-align: top;\n",
              "    }\n",
              "\n",
              "    .dataframe thead th {\n",
              "        text-align: right;\n",
              "    }\n",
              "</style>\n",
              "<table border=\"1\" class=\"dataframe\">\n",
              "  <thead>\n",
              "    <tr style=\"text-align: right;\">\n",
              "      <th></th>\n",
              "      <th># sent emails</th>\n",
              "      <th>label_num</th>\n",
              "    </tr>\n",
              "  </thead>\n",
              "  <tbody>\n",
              "    <tr>\n",
              "      <th>count</th>\n",
              "      <td>5171.000000</td>\n",
              "      <td>5171.000000</td>\n",
              "    </tr>\n",
              "    <tr>\n",
              "      <th>mean</th>\n",
              "      <td>2585.000000</td>\n",
              "      <td>0.289886</td>\n",
              "    </tr>\n",
              "    <tr>\n",
              "      <th>std</th>\n",
              "      <td>1492.883452</td>\n",
              "      <td>0.453753</td>\n",
              "    </tr>\n",
              "    <tr>\n",
              "      <th>min</th>\n",
              "      <td>0.000000</td>\n",
              "      <td>0.000000</td>\n",
              "    </tr>\n",
              "    <tr>\n",
              "      <th>25%</th>\n",
              "      <td>1292.500000</td>\n",
              "      <td>0.000000</td>\n",
              "    </tr>\n",
              "    <tr>\n",
              "      <th>50%</th>\n",
              "      <td>2585.000000</td>\n",
              "      <td>0.000000</td>\n",
              "    </tr>\n",
              "    <tr>\n",
              "      <th>75%</th>\n",
              "      <td>3877.500000</td>\n",
              "      <td>1.000000</td>\n",
              "    </tr>\n",
              "    <tr>\n",
              "      <th>max</th>\n",
              "      <td>5170.000000</td>\n",
              "      <td>1.000000</td>\n",
              "    </tr>\n",
              "  </tbody>\n",
              "</table>\n",
              "</div>"
            ],
            "text/plain": [
              "       # sent emails     label_num\n",
              "count     5171.000000  5171.000000\n",
              "mean      2585.000000     0.289886\n",
              "std       1492.883452     0.453753\n",
              "min          0.000000     0.000000\n",
              "25%       1292.500000     0.000000\n",
              "50%       2585.000000     0.000000\n",
              "75%       3877.500000     1.000000\n",
              "max       5170.000000     1.000000"
            ]
          },
          "execution_count": 6,
          "metadata": {},
          "output_type": "execute_result"
        }
      ],
      "source": [
        "data.describe()"
      ]
    },
    {
      "cell_type": "code",
      "execution_count": 7,
      "metadata": {
        "colab": {
          "base_uri": "https://localhost:8080/"
        },
        "id": "SEEaplUBghRP",
        "outputId": "b01a246a-00de-4b84-8407-0743fbdb5848"
      },
      "outputs": [
        {
          "data": {
            "text/plain": [
              "0"
            ]
          },
          "execution_count": 7,
          "metadata": {},
          "output_type": "execute_result"
        }
      ],
      "source": [
        "sum(data.duplicated())"
      ]
    },
    {
      "cell_type": "code",
      "execution_count": 8,
      "metadata": {
        "colab": {
          "base_uri": "https://localhost:8080/"
        },
        "id": "mURNaTjRgnm3",
        "outputId": "7ec02afa-944f-4de2-8254-e2c6722e24fd"
      },
      "outputs": [
        {
          "data": {
            "text/plain": [
              "True"
            ]
          },
          "execution_count": 8,
          "metadata": {},
          "output_type": "execute_result"
        }
      ],
      "source": [
        "sum(data.duplicated()) == 0"
      ]
    },
    {
      "cell_type": "code",
      "execution_count": 9,
      "metadata": {
        "id": "_5af35Fig9BH"
      },
      "outputs": [],
      "source": [
        "data.drop_duplicates(inplace=True)"
      ]
    },
    {
      "cell_type": "code",
      "execution_count": 10,
      "metadata": {
        "colab": {
          "base_uri": "https://localhost:8080/"
        },
        "id": "lcyL1oBahB8_",
        "outputId": "856c97f3-567d-43af-91bd-1af213842341"
      },
      "outputs": [
        {
          "name": "stdout",
          "output_type": "stream",
          "text": [
            "# sent emails     0\n",
            "label             0\n",
            "text              0\n",
            "label_num         0\n",
            "dtype: int64\n"
          ]
        }
      ],
      "source": [
        "print (data.isnull().sum())"
      ]
    },
    {
      "cell_type": "code",
      "execution_count": 11,
      "metadata": {
        "id": "c4N246VIXzT5"
      },
      "outputs": [],
      "source": [
        "data.dropna(inplace=True)"
      ]
    },
    {
      "cell_type": "code",
      "execution_count": 12,
      "metadata": {
        "colab": {
          "base_uri": "https://localhost:8080/"
        },
        "id": "gNAvQceKX2mg",
        "outputId": "ba53a326-02d4-4b92-f06a-718fe5a6ee12"
      },
      "outputs": [
        {
          "name": "stdout",
          "output_type": "stream",
          "text": [
            "# sent emails     0\n",
            "label             0\n",
            "text              0\n",
            "label_num         0\n",
            "dtype: int64\n"
          ]
        }
      ],
      "source": [
        "print (data.isnull().sum())"
      ]
    },
    {
      "cell_type": "code",
      "execution_count": 13,
      "metadata": {
        "colab": {
          "base_uri": "https://localhost:8080/",
          "height": 677
        },
        "id": "fhC7IeXtham_",
        "outputId": "8ca07d21-158a-43cc-b32c-0b9d57f354bb"
      },
      "outputs": [
        {
          "data": {
            "text/html": [
              "<div>\n",
              "<style scoped>\n",
              "    .dataframe tbody tr th:only-of-type {\n",
              "        vertical-align: middle;\n",
              "    }\n",
              "\n",
              "    .dataframe tbody tr th {\n",
              "        vertical-align: top;\n",
              "    }\n",
              "\n",
              "    .dataframe thead th {\n",
              "        text-align: right;\n",
              "    }\n",
              "</style>\n",
              "<table border=\"1\" class=\"dataframe\">\n",
              "  <thead>\n",
              "    <tr style=\"text-align: right;\">\n",
              "      <th></th>\n",
              "      <th># sent emails</th>\n",
              "      <th>label</th>\n",
              "      <th>text</th>\n",
              "      <th>label_num</th>\n",
              "    </tr>\n",
              "  </thead>\n",
              "  <tbody>\n",
              "    <tr>\n",
              "      <th>0</th>\n",
              "      <td>605</td>\n",
              "      <td>ham</td>\n",
              "      <td>Subject: enron methanol ; meter # : 988291\\r\\n...</td>\n",
              "      <td>0</td>\n",
              "    </tr>\n",
              "    <tr>\n",
              "      <th>1</th>\n",
              "      <td>2349</td>\n",
              "      <td>ham</td>\n",
              "      <td>Subject: hpl nom for january 9 , 2001\\r\\n( see...</td>\n",
              "      <td>0</td>\n",
              "    </tr>\n",
              "    <tr>\n",
              "      <th>2</th>\n",
              "      <td>3624</td>\n",
              "      <td>ham</td>\n",
              "      <td>Subject: neon retreat\\r\\nho ho ho , we ' re ar...</td>\n",
              "      <td>0</td>\n",
              "    </tr>\n",
              "    <tr>\n",
              "      <th>3</th>\n",
              "      <td>4685</td>\n",
              "      <td>spam</td>\n",
              "      <td>Subject: photoshop , windows , office . cheap ...</td>\n",
              "      <td>1</td>\n",
              "    </tr>\n",
              "    <tr>\n",
              "      <th>4</th>\n",
              "      <td>2030</td>\n",
              "      <td>ham</td>\n",
              "      <td>Subject: re : indian springs\\r\\nthis deal is t...</td>\n",
              "      <td>0</td>\n",
              "    </tr>\n",
              "    <tr>\n",
              "      <th>5</th>\n",
              "      <td>2949</td>\n",
              "      <td>ham</td>\n",
              "      <td>Subject: ehronline web address change\\r\\nthis ...</td>\n",
              "      <td>0</td>\n",
              "    </tr>\n",
              "    <tr>\n",
              "      <th>6</th>\n",
              "      <td>2793</td>\n",
              "      <td>ham</td>\n",
              "      <td>Subject: spring savings certificate - take 30 ...</td>\n",
              "      <td>0</td>\n",
              "    </tr>\n",
              "    <tr>\n",
              "      <th>7</th>\n",
              "      <td>4185</td>\n",
              "      <td>spam</td>\n",
              "      <td>Subject: looking for medication ? we ` re the ...</td>\n",
              "      <td>1</td>\n",
              "    </tr>\n",
              "    <tr>\n",
              "      <th>8</th>\n",
              "      <td>2641</td>\n",
              "      <td>ham</td>\n",
              "      <td>Subject: noms / actual flow for 2 / 26\\r\\nwe a...</td>\n",
              "      <td>0</td>\n",
              "    </tr>\n",
              "    <tr>\n",
              "      <th>9</th>\n",
              "      <td>1870</td>\n",
              "      <td>ham</td>\n",
              "      <td>Subject: nominations for oct . 21 - 23 , 2000\\...</td>\n",
              "      <td>0</td>\n",
              "    </tr>\n",
              "    <tr>\n",
              "      <th>10</th>\n",
              "      <td>4922</td>\n",
              "      <td>spam</td>\n",
              "      <td>Subject: vocable % rnd - word asceticism\\r\\nvc...</td>\n",
              "      <td>1</td>\n",
              "    </tr>\n",
              "    <tr>\n",
              "      <th>11</th>\n",
              "      <td>3799</td>\n",
              "      <td>spam</td>\n",
              "      <td>Subject: report 01405 !\\r\\nwffur attion brom e...</td>\n",
              "      <td>1</td>\n",
              "    </tr>\n",
              "    <tr>\n",
              "      <th>12</th>\n",
              "      <td>1488</td>\n",
              "      <td>ham</td>\n",
              "      <td>Subject: enron / hpl actuals for august 28 , 2...</td>\n",
              "      <td>0</td>\n",
              "    </tr>\n",
              "    <tr>\n",
              "      <th>13</th>\n",
              "      <td>3948</td>\n",
              "      <td>spam</td>\n",
              "      <td>Subject: vic . odin n ^ ow\\r\\nberne hotbox car...</td>\n",
              "      <td>1</td>\n",
              "    </tr>\n",
              "    <tr>\n",
              "      <th>14</th>\n",
              "      <td>3418</td>\n",
              "      <td>ham</td>\n",
              "      <td>Subject: tenaska iv july\\r\\ndarren :\\r\\nplease...</td>\n",
              "      <td>0</td>\n",
              "    </tr>\n",
              "    <tr>\n",
              "      <th>15</th>\n",
              "      <td>4791</td>\n",
              "      <td>spam</td>\n",
              "      <td>Subject: underpriced issue with high return on...</td>\n",
              "      <td>1</td>\n",
              "    </tr>\n",
              "    <tr>\n",
              "      <th>16</th>\n",
              "      <td>2643</td>\n",
              "      <td>ham</td>\n",
              "      <td>Subject: re : first delivery - wheeler operati...</td>\n",
              "      <td>0</td>\n",
              "    </tr>\n",
              "    <tr>\n",
              "      <th>17</th>\n",
              "      <td>3137</td>\n",
              "      <td>ham</td>\n",
              "      <td>Subject: swift - may 2001 vols\\r\\nsean ,\\r\\nfy...</td>\n",
              "      <td>0</td>\n",
              "    </tr>\n",
              "    <tr>\n",
              "      <th>18</th>\n",
              "      <td>1629</td>\n",
              "      <td>ham</td>\n",
              "      <td>Subject: meter variances - ua 4 clean - up\\r\\n...</td>\n",
              "      <td>0</td>\n",
              "    </tr>\n",
              "    <tr>\n",
              "      <th>19</th>\n",
              "      <td>1858</td>\n",
              "      <td>ham</td>\n",
              "      <td>Subject: additional recruiting\\r\\ni ' m happy ...</td>\n",
              "      <td>0</td>\n",
              "    </tr>\n",
              "  </tbody>\n",
              "</table>\n",
              "</div>"
            ],
            "text/plain": [
              "    # sent emails  label                                               text  \\\n",
              "0              605   ham  Subject: enron methanol ; meter # : 988291\\r\\n...   \n",
              "1             2349   ham  Subject: hpl nom for january 9 , 2001\\r\\n( see...   \n",
              "2             3624   ham  Subject: neon retreat\\r\\nho ho ho , we ' re ar...   \n",
              "3             4685  spam  Subject: photoshop , windows , office . cheap ...   \n",
              "4             2030   ham  Subject: re : indian springs\\r\\nthis deal is t...   \n",
              "5             2949   ham  Subject: ehronline web address change\\r\\nthis ...   \n",
              "6             2793   ham  Subject: spring savings certificate - take 30 ...   \n",
              "7             4185  spam  Subject: looking for medication ? we ` re the ...   \n",
              "8             2641   ham  Subject: noms / actual flow for 2 / 26\\r\\nwe a...   \n",
              "9             1870   ham  Subject: nominations for oct . 21 - 23 , 2000\\...   \n",
              "10            4922  spam  Subject: vocable % rnd - word asceticism\\r\\nvc...   \n",
              "11            3799  spam  Subject: report 01405 !\\r\\nwffur attion brom e...   \n",
              "12            1488   ham  Subject: enron / hpl actuals for august 28 , 2...   \n",
              "13            3948  spam  Subject: vic . odin n ^ ow\\r\\nberne hotbox car...   \n",
              "14            3418   ham  Subject: tenaska iv july\\r\\ndarren :\\r\\nplease...   \n",
              "15            4791  spam  Subject: underpriced issue with high return on...   \n",
              "16            2643   ham  Subject: re : first delivery - wheeler operati...   \n",
              "17            3137   ham  Subject: swift - may 2001 vols\\r\\nsean ,\\r\\nfy...   \n",
              "18            1629   ham  Subject: meter variances - ua 4 clean - up\\r\\n...   \n",
              "19            1858   ham  Subject: additional recruiting\\r\\ni ' m happy ...   \n",
              "\n",
              "    label_num  \n",
              "0           0  \n",
              "1           0  \n",
              "2           0  \n",
              "3           1  \n",
              "4           0  \n",
              "5           0  \n",
              "6           0  \n",
              "7           1  \n",
              "8           0  \n",
              "9           0  \n",
              "10          1  \n",
              "11          1  \n",
              "12          0  \n",
              "13          1  \n",
              "14          0  \n",
              "15          1  \n",
              "16          0  \n",
              "17          0  \n",
              "18          0  \n",
              "19          0  "
            ]
          },
          "execution_count": 13,
          "metadata": {},
          "output_type": "execute_result"
        }
      ],
      "source": [
        "data.head(20)"
      ]
    },
    {
      "cell_type": "code",
      "execution_count": 14,
      "metadata": {
        "colab": {
          "base_uri": "https://localhost:8080/",
          "height": 424
        },
        "id": "Me6qouv1idou",
        "outputId": "edfaf003-5429-43a2-a2f3-7095e89819d0"
      },
      "outputs": [
        {
          "data": {
            "text/html": [
              "<div>\n",
              "<style scoped>\n",
              "    .dataframe tbody tr th:only-of-type {\n",
              "        vertical-align: middle;\n",
              "    }\n",
              "\n",
              "    .dataframe tbody tr th {\n",
              "        vertical-align: top;\n",
              "    }\n",
              "\n",
              "    .dataframe thead th {\n",
              "        text-align: right;\n",
              "    }\n",
              "</style>\n",
              "<table border=\"1\" class=\"dataframe\">\n",
              "  <thead>\n",
              "    <tr style=\"text-align: right;\">\n",
              "      <th></th>\n",
              "      <th># sent emails</th>\n",
              "      <th>label</th>\n",
              "      <th>text</th>\n",
              "      <th>label_num</th>\n",
              "    </tr>\n",
              "  </thead>\n",
              "  <tbody>\n",
              "    <tr>\n",
              "      <th>3</th>\n",
              "      <td>4685</td>\n",
              "      <td>spam</td>\n",
              "      <td>Subject: photoshop , windows , office . cheap ...</td>\n",
              "      <td>1</td>\n",
              "    </tr>\n",
              "    <tr>\n",
              "      <th>7</th>\n",
              "      <td>4185</td>\n",
              "      <td>spam</td>\n",
              "      <td>Subject: looking for medication ? we ` re the ...</td>\n",
              "      <td>1</td>\n",
              "    </tr>\n",
              "    <tr>\n",
              "      <th>10</th>\n",
              "      <td>4922</td>\n",
              "      <td>spam</td>\n",
              "      <td>Subject: vocable % rnd - word asceticism\\r\\nvc...</td>\n",
              "      <td>1</td>\n",
              "    </tr>\n",
              "    <tr>\n",
              "      <th>11</th>\n",
              "      <td>3799</td>\n",
              "      <td>spam</td>\n",
              "      <td>Subject: report 01405 !\\r\\nwffur attion brom e...</td>\n",
              "      <td>1</td>\n",
              "    </tr>\n",
              "    <tr>\n",
              "      <th>13</th>\n",
              "      <td>3948</td>\n",
              "      <td>spam</td>\n",
              "      <td>Subject: vic . odin n ^ ow\\r\\nberne hotbox car...</td>\n",
              "      <td>1</td>\n",
              "    </tr>\n",
              "    <tr>\n",
              "      <th>...</th>\n",
              "      <td>...</td>\n",
              "      <td>...</td>\n",
              "      <td>...</td>\n",
              "      <td>...</td>\n",
              "    </tr>\n",
              "    <tr>\n",
              "      <th>5159</th>\n",
              "      <td>4381</td>\n",
              "      <td>spam</td>\n",
              "      <td>Subject: pictures\\r\\nstreamlined denizen ajar ...</td>\n",
              "      <td>1</td>\n",
              "    </tr>\n",
              "    <tr>\n",
              "      <th>5161</th>\n",
              "      <td>4979</td>\n",
              "      <td>spam</td>\n",
              "      <td>Subject: penny stocks are about timing\\r\\nnoma...</td>\n",
              "      <td>1</td>\n",
              "    </tr>\n",
              "    <tr>\n",
              "      <th>5162</th>\n",
              "      <td>4162</td>\n",
              "      <td>spam</td>\n",
              "      <td>Subject: anomaly boys from 3881\\r\\nuosda apapr...</td>\n",
              "      <td>1</td>\n",
              "    </tr>\n",
              "    <tr>\n",
              "      <th>5164</th>\n",
              "      <td>4365</td>\n",
              "      <td>spam</td>\n",
              "      <td>Subject: slutty milf wants to meet you\\r\\ntake...</td>\n",
              "      <td>1</td>\n",
              "    </tr>\n",
              "    <tr>\n",
              "      <th>5170</th>\n",
              "      <td>4807</td>\n",
              "      <td>spam</td>\n",
              "      <td>Subject: important online banking alert\\r\\ndea...</td>\n",
              "      <td>1</td>\n",
              "    </tr>\n",
              "  </tbody>\n",
              "</table>\n",
              "<p>1499 rows × 4 columns</p>\n",
              "</div>"
            ],
            "text/plain": [
              "      # sent emails  label                                               text  \\\n",
              "3               4685  spam  Subject: photoshop , windows , office . cheap ...   \n",
              "7               4185  spam  Subject: looking for medication ? we ` re the ...   \n",
              "10              4922  spam  Subject: vocable % rnd - word asceticism\\r\\nvc...   \n",
              "11              3799  spam  Subject: report 01405 !\\r\\nwffur attion brom e...   \n",
              "13              3948  spam  Subject: vic . odin n ^ ow\\r\\nberne hotbox car...   \n",
              "...              ...   ...                                                ...   \n",
              "5159            4381  spam  Subject: pictures\\r\\nstreamlined denizen ajar ...   \n",
              "5161            4979  spam  Subject: penny stocks are about timing\\r\\nnoma...   \n",
              "5162            4162  spam  Subject: anomaly boys from 3881\\r\\nuosda apapr...   \n",
              "5164            4365  spam  Subject: slutty milf wants to meet you\\r\\ntake...   \n",
              "5170            4807  spam  Subject: important online banking alert\\r\\ndea...   \n",
              "\n",
              "      label_num  \n",
              "3             1  \n",
              "7             1  \n",
              "10            1  \n",
              "11            1  \n",
              "13            1  \n",
              "...         ...  \n",
              "5159          1  \n",
              "5161          1  \n",
              "5162          1  \n",
              "5164          1  \n",
              "5170          1  \n",
              "\n",
              "[1499 rows x 4 columns]"
            ]
          },
          "execution_count": 14,
          "metadata": {},
          "output_type": "execute_result"
        }
      ],
      "source": [
        "data[data[\"label_num\"] == 1]\n"
      ]
    },
    {
      "cell_type": "code",
      "execution_count": 15,
      "metadata": {
        "id": "anir37GDjaGu"
      },
      "outputs": [],
      "source": [
        "data.drop(\"label\" , axis=1 , inplace =True)"
      ]
    },
    {
      "cell_type": "code",
      "execution_count": 16,
      "metadata": {
        "colab": {
          "base_uri": "https://localhost:8080/"
        },
        "id": "MlhI6BLaitxD",
        "outputId": "f953847c-3b7f-491f-acb5-a215a611cbbf"
      },
      "outputs": [
        {
          "name": "stdout",
          "output_type": "stream",
          "text": [
            "<class 'pandas.core.frame.DataFrame'>\n",
            "RangeIndex: 5171 entries, 0 to 5170\n",
            "Data columns (total 3 columns):\n",
            " #   Column          Non-Null Count  Dtype \n",
            "---  ------          --------------  ----- \n",
            " 0   # sent emails   5171 non-null   int64 \n",
            " 1   text            5171 non-null   object\n",
            " 2   label_num       5171 non-null   int64 \n",
            "dtypes: int64(2), object(1)\n",
            "memory usage: 121.3+ KB\n"
          ]
        }
      ],
      "source": [
        "data.info()"
      ]
    },
    {
      "cell_type": "code",
      "execution_count": 17,
      "metadata": {
        "colab": {
          "base_uri": "https://localhost:8080/",
          "height": 206
        },
        "id": "5sededeujn1n",
        "outputId": "1287d5f2-0c7c-40c0-d3a9-b57ad6d01f56"
      },
      "outputs": [
        {
          "data": {
            "text/html": [
              "<div>\n",
              "<style scoped>\n",
              "    .dataframe tbody tr th:only-of-type {\n",
              "        vertical-align: middle;\n",
              "    }\n",
              "\n",
              "    .dataframe tbody tr th {\n",
              "        vertical-align: top;\n",
              "    }\n",
              "\n",
              "    .dataframe thead th {\n",
              "        text-align: right;\n",
              "    }\n",
              "</style>\n",
              "<table border=\"1\" class=\"dataframe\">\n",
              "  <thead>\n",
              "    <tr style=\"text-align: right;\">\n",
              "      <th></th>\n",
              "      <th># sent emails</th>\n",
              "      <th>text</th>\n",
              "      <th>label_num</th>\n",
              "    </tr>\n",
              "  </thead>\n",
              "  <tbody>\n",
              "    <tr>\n",
              "      <th>0</th>\n",
              "      <td>605</td>\n",
              "      <td>Subject: enron methanol ; meter # : 988291\\r\\n...</td>\n",
              "      <td>0</td>\n",
              "    </tr>\n",
              "    <tr>\n",
              "      <th>1</th>\n",
              "      <td>2349</td>\n",
              "      <td>Subject: hpl nom for january 9 , 2001\\r\\n( see...</td>\n",
              "      <td>0</td>\n",
              "    </tr>\n",
              "    <tr>\n",
              "      <th>2</th>\n",
              "      <td>3624</td>\n",
              "      <td>Subject: neon retreat\\r\\nho ho ho , we ' re ar...</td>\n",
              "      <td>0</td>\n",
              "    </tr>\n",
              "    <tr>\n",
              "      <th>3</th>\n",
              "      <td>4685</td>\n",
              "      <td>Subject: photoshop , windows , office . cheap ...</td>\n",
              "      <td>1</td>\n",
              "    </tr>\n",
              "    <tr>\n",
              "      <th>4</th>\n",
              "      <td>2030</td>\n",
              "      <td>Subject: re : indian springs\\r\\nthis deal is t...</td>\n",
              "      <td>0</td>\n",
              "    </tr>\n",
              "  </tbody>\n",
              "</table>\n",
              "</div>"
            ],
            "text/plain": [
              "   # sent emails                                                text  \\\n",
              "0             605  Subject: enron methanol ; meter # : 988291\\r\\n...   \n",
              "1            2349  Subject: hpl nom for january 9 , 2001\\r\\n( see...   \n",
              "2            3624  Subject: neon retreat\\r\\nho ho ho , we ' re ar...   \n",
              "3            4685  Subject: photoshop , windows , office . cheap ...   \n",
              "4            2030  Subject: re : indian springs\\r\\nthis deal is t...   \n",
              "\n",
              "   label_num  \n",
              "0          0  \n",
              "1          0  \n",
              "2          0  \n",
              "3          1  \n",
              "4          0  "
            ]
          },
          "execution_count": 17,
          "metadata": {},
          "output_type": "execute_result"
        }
      ],
      "source": [
        "data.head()"
      ]
    },
    {
      "cell_type": "code",
      "execution_count": 18,
      "metadata": {
        "colab": {
          "base_uri": "https://localhost:8080/",
          "height": 424
        },
        "id": "Fe22VXLgkCyO",
        "outputId": "1ee283ae-c27a-4126-8bf6-bb1406c621e1"
      },
      "outputs": [
        {
          "data": {
            "text/html": [
              "<div>\n",
              "<style scoped>\n",
              "    .dataframe tbody tr th:only-of-type {\n",
              "        vertical-align: middle;\n",
              "    }\n",
              "\n",
              "    .dataframe tbody tr th {\n",
              "        vertical-align: top;\n",
              "    }\n",
              "\n",
              "    .dataframe thead th {\n",
              "        text-align: right;\n",
              "    }\n",
              "</style>\n",
              "<table border=\"1\" class=\"dataframe\">\n",
              "  <thead>\n",
              "    <tr style=\"text-align: right;\">\n",
              "      <th></th>\n",
              "      <th># sent emails</th>\n",
              "      <th>text</th>\n",
              "      <th>label_num</th>\n",
              "      <th>size text</th>\n",
              "    </tr>\n",
              "  </thead>\n",
              "  <tbody>\n",
              "    <tr>\n",
              "      <th>0</th>\n",
              "      <td>605</td>\n",
              "      <td>Subject: enron methanol ; meter # : 988291\\r\\n...</td>\n",
              "      <td>0</td>\n",
              "      <td>327</td>\n",
              "    </tr>\n",
              "    <tr>\n",
              "      <th>1</th>\n",
              "      <td>2349</td>\n",
              "      <td>Subject: hpl nom for january 9 , 2001\\r\\n( see...</td>\n",
              "      <td>0</td>\n",
              "      <td>97</td>\n",
              "    </tr>\n",
              "    <tr>\n",
              "      <th>2</th>\n",
              "      <td>3624</td>\n",
              "      <td>Subject: neon retreat\\r\\nho ho ho , we ' re ar...</td>\n",
              "      <td>0</td>\n",
              "      <td>2524</td>\n",
              "    </tr>\n",
              "    <tr>\n",
              "      <th>4</th>\n",
              "      <td>2030</td>\n",
              "      <td>Subject: re : indian springs\\r\\nthis deal is t...</td>\n",
              "      <td>0</td>\n",
              "      <td>336</td>\n",
              "    </tr>\n",
              "    <tr>\n",
              "      <th>5</th>\n",
              "      <td>2949</td>\n",
              "      <td>Subject: ehronline web address change\\r\\nthis ...</td>\n",
              "      <td>0</td>\n",
              "      <td>480</td>\n",
              "    </tr>\n",
              "    <tr>\n",
              "      <th>...</th>\n",
              "      <td>...</td>\n",
              "      <td>...</td>\n",
              "      <td>...</td>\n",
              "      <td>...</td>\n",
              "    </tr>\n",
              "    <tr>\n",
              "      <th>5165</th>\n",
              "      <td>2849</td>\n",
              "      <td>Subject: fw : crosstex energy , driscoll ranch...</td>\n",
              "      <td>0</td>\n",
              "      <td>869</td>\n",
              "    </tr>\n",
              "    <tr>\n",
              "      <th>5166</th>\n",
              "      <td>1518</td>\n",
              "      <td>Subject: put the 10 on the ft\\r\\nthe transport...</td>\n",
              "      <td>0</td>\n",
              "      <td>534</td>\n",
              "    </tr>\n",
              "    <tr>\n",
              "      <th>5167</th>\n",
              "      <td>404</td>\n",
              "      <td>Subject: 3 / 4 / 2000 and following noms\\r\\nhp...</td>\n",
              "      <td>0</td>\n",
              "      <td>1114</td>\n",
              "    </tr>\n",
              "    <tr>\n",
              "      <th>5168</th>\n",
              "      <td>2933</td>\n",
              "      <td>Subject: calpine daily gas nomination\\r\\n&gt;\\r\\n...</td>\n",
              "      <td>0</td>\n",
              "      <td>402</td>\n",
              "    </tr>\n",
              "    <tr>\n",
              "      <th>5169</th>\n",
              "      <td>1409</td>\n",
              "      <td>Subject: industrial worksheets for august 2000...</td>\n",
              "      <td>0</td>\n",
              "      <td>573</td>\n",
              "    </tr>\n",
              "  </tbody>\n",
              "</table>\n",
              "<p>3672 rows × 4 columns</p>\n",
              "</div>"
            ],
            "text/plain": [
              "      # sent emails                                                text  \\\n",
              "0                605  Subject: enron methanol ; meter # : 988291\\r\\n...   \n",
              "1               2349  Subject: hpl nom for january 9 , 2001\\r\\n( see...   \n",
              "2               3624  Subject: neon retreat\\r\\nho ho ho , we ' re ar...   \n",
              "4               2030  Subject: re : indian springs\\r\\nthis deal is t...   \n",
              "5               2949  Subject: ehronline web address change\\r\\nthis ...   \n",
              "...              ...                                                ...   \n",
              "5165            2849  Subject: fw : crosstex energy , driscoll ranch...   \n",
              "5166            1518  Subject: put the 10 on the ft\\r\\nthe transport...   \n",
              "5167             404  Subject: 3 / 4 / 2000 and following noms\\r\\nhp...   \n",
              "5168            2933  Subject: calpine daily gas nomination\\r\\n>\\r\\n...   \n",
              "5169            1409  Subject: industrial worksheets for august 2000...   \n",
              "\n",
              "      label_num  size text  \n",
              "0             0        327  \n",
              "1             0         97  \n",
              "2             0       2524  \n",
              "4             0        336  \n",
              "5             0        480  \n",
              "...         ...        ...  \n",
              "5165          0        869  \n",
              "5166          0        534  \n",
              "5167          0       1114  \n",
              "5168          0        402  \n",
              "5169          0        573  \n",
              "\n",
              "[3672 rows x 4 columns]"
            ]
          },
          "execution_count": 18,
          "metadata": {},
          "output_type": "execute_result"
        }
      ],
      "source": [
        "\n",
        "data[\"size text\"] = data['text'].str.len()\n",
        "data[data[\"label_num\"]==0]"
      ]
    },
    {
      "cell_type": "code",
      "execution_count": 19,
      "metadata": {
        "colab": {
          "base_uri": "https://localhost:8080/",
          "height": 143
        },
        "id": "9gKGeObmlxGF",
        "outputId": "7beff62a-077b-4cde-aed1-0ad7fc6fcd0c"
      },
      "outputs": [
        {
          "data": {
            "text/html": [
              "<div>\n",
              "<style scoped>\n",
              "    .dataframe tbody tr th:only-of-type {\n",
              "        vertical-align: middle;\n",
              "    }\n",
              "\n",
              "    .dataframe tbody tr th {\n",
              "        vertical-align: top;\n",
              "    }\n",
              "\n",
              "    .dataframe thead th {\n",
              "        text-align: right;\n",
              "    }\n",
              "</style>\n",
              "<table border=\"1\" class=\"dataframe\">\n",
              "  <thead>\n",
              "    <tr style=\"text-align: right;\">\n",
              "      <th></th>\n",
              "      <th># sent emails</th>\n",
              "      <th>text</th>\n",
              "      <th>size text</th>\n",
              "    </tr>\n",
              "    <tr>\n",
              "      <th>label_num</th>\n",
              "      <th></th>\n",
              "      <th></th>\n",
              "      <th></th>\n",
              "    </tr>\n",
              "  </thead>\n",
              "  <tbody>\n",
              "    <tr>\n",
              "      <th>0</th>\n",
              "      <td>0</td>\n",
              "      <td>Subject: \" ram tackett \" : pictures\\r\\ndaren l...</td>\n",
              "      <td>18</td>\n",
              "    </tr>\n",
              "    <tr>\n",
              "      <th>1</th>\n",
              "      <td>3672</td>\n",
              "      <td>Subject: \\r\\n</td>\n",
              "      <td>11</td>\n",
              "    </tr>\n",
              "  </tbody>\n",
              "</table>\n",
              "</div>"
            ],
            "text/plain": [
              "           # sent emails                                                text  \\\n",
              "label_num                                                                      \n",
              "0                       0  Subject: \" ram tackett \" : pictures\\r\\ndaren l...   \n",
              "1                    3672                                      Subject: \\r\\n   \n",
              "\n",
              "           size text  \n",
              "label_num             \n",
              "0                 18  \n",
              "1                 11  "
            ]
          },
          "execution_count": 19,
          "metadata": {},
          "output_type": "execute_result"
        }
      ],
      "source": [
        "data.groupby([\"label_num\"]).min()"
      ]
    },
    {
      "cell_type": "code",
      "execution_count": 20,
      "metadata": {
        "colab": {
          "base_uri": "https://localhost:8080/",
          "height": 143
        },
        "id": "weo3qsQKFmrK",
        "outputId": "b55eb209-0a6b-497c-9deb-0a052320c9a3"
      },
      "outputs": [
        {
          "data": {
            "text/html": [
              "<div>\n",
              "<style scoped>\n",
              "    .dataframe tbody tr th:only-of-type {\n",
              "        vertical-align: middle;\n",
              "    }\n",
              "\n",
              "    .dataframe tbody tr th {\n",
              "        vertical-align: top;\n",
              "    }\n",
              "\n",
              "    .dataframe thead th {\n",
              "        text-align: right;\n",
              "    }\n",
              "</style>\n",
              "<table border=\"1\" class=\"dataframe\">\n",
              "  <thead>\n",
              "    <tr style=\"text-align: right;\">\n",
              "      <th></th>\n",
              "      <th># sent emails</th>\n",
              "      <th>text</th>\n",
              "      <th>size text</th>\n",
              "    </tr>\n",
              "    <tr>\n",
              "      <th>label_num</th>\n",
              "      <th></th>\n",
              "      <th></th>\n",
              "      <th></th>\n",
              "    </tr>\n",
              "  </thead>\n",
              "  <tbody>\n",
              "    <tr>\n",
              "      <th>0</th>\n",
              "      <td>3671</td>\n",
              "      <td>Subject: zero path termination in path manager...</td>\n",
              "      <td>32258</td>\n",
              "    </tr>\n",
              "    <tr>\n",
              "      <th>1</th>\n",
              "      <td>5170</td>\n",
              "      <td>Subject: zdrive 1 . 5 gb usb 2 . 0 portable st...</td>\n",
              "      <td>22073</td>\n",
              "    </tr>\n",
              "  </tbody>\n",
              "</table>\n",
              "</div>"
            ],
            "text/plain": [
              "           # sent emails                                                text  \\\n",
              "label_num                                                                      \n",
              "0                    3671  Subject: zero path termination in path manager...   \n",
              "1                    5170  Subject: zdrive 1 . 5 gb usb 2 . 0 portable st...   \n",
              "\n",
              "           size text  \n",
              "label_num             \n",
              "0              32258  \n",
              "1              22073  "
            ]
          },
          "execution_count": 20,
          "metadata": {},
          "output_type": "execute_result"
        }
      ],
      "source": [
        "data.groupby([\"label_num\"]).max()"
      ]
    },
    {
      "cell_type": "code",
      "execution_count": 21,
      "metadata": {
        "colab": {
          "base_uri": "https://localhost:8080/",
          "height": 424
        },
        "id": "tXn6273IGGWG",
        "outputId": "8e92abeb-ab53-407b-e2c6-b7cc5f6ffb62"
      },
      "outputs": [
        {
          "data": {
            "text/html": [
              "<div>\n",
              "<style scoped>\n",
              "    .dataframe tbody tr th:only-of-type {\n",
              "        vertical-align: middle;\n",
              "    }\n",
              "\n",
              "    .dataframe tbody tr th {\n",
              "        vertical-align: top;\n",
              "    }\n",
              "\n",
              "    .dataframe thead th {\n",
              "        text-align: right;\n",
              "    }\n",
              "</style>\n",
              "<table border=\"1\" class=\"dataframe\">\n",
              "  <thead>\n",
              "    <tr style=\"text-align: right;\">\n",
              "      <th></th>\n",
              "      <th># sent emails</th>\n",
              "      <th>text</th>\n",
              "      <th>label_num</th>\n",
              "      <th>size text</th>\n",
              "    </tr>\n",
              "  </thead>\n",
              "  <tbody>\n",
              "    <tr>\n",
              "      <th>182</th>\n",
              "      <td>4727</td>\n",
              "      <td>Subject: \\r\\n</td>\n",
              "      <td>1</td>\n",
              "      <td>11</td>\n",
              "    </tr>\n",
              "    <tr>\n",
              "      <th>296</th>\n",
              "      <td>4690</td>\n",
              "      <td>Subject: \\r\\n</td>\n",
              "      <td>1</td>\n",
              "      <td>11</td>\n",
              "    </tr>\n",
              "    <tr>\n",
              "      <th>363</th>\n",
              "      <td>4682</td>\n",
              "      <td>Subject: \\r\\n</td>\n",
              "      <td>1</td>\n",
              "      <td>11</td>\n",
              "    </tr>\n",
              "    <tr>\n",
              "      <th>436</th>\n",
              "      <td>2084</td>\n",
              "      <td>Subject: cornhusker up on 24 th\\r\\nspoke with ...</td>\n",
              "      <td>0</td>\n",
              "      <td>300</td>\n",
              "    </tr>\n",
              "    <tr>\n",
              "      <th>624</th>\n",
              "      <td>2034</td>\n",
              "      <td>Subject: enron / hpl actuals for november 13 ,...</td>\n",
              "      <td>0</td>\n",
              "      <td>119</td>\n",
              "    </tr>\n",
              "    <tr>\n",
              "      <th>...</th>\n",
              "      <td>...</td>\n",
              "      <td>...</td>\n",
              "      <td>...</td>\n",
              "      <td>...</td>\n",
              "    </tr>\n",
              "    <tr>\n",
              "      <th>5061</th>\n",
              "      <td>1729</td>\n",
              "      <td>Subject: tenaska iv\\r\\nbob :\\r\\ni understand f...</td>\n",
              "      <td>0</td>\n",
              "      <td>2424</td>\n",
              "    </tr>\n",
              "    <tr>\n",
              "      <th>5064</th>\n",
              "      <td>4369</td>\n",
              "      <td>Subject: \\r\\nthis week only : f . ree gen . er...</td>\n",
              "      <td>1</td>\n",
              "      <td>194</td>\n",
              "    </tr>\n",
              "    <tr>\n",
              "      <th>5089</th>\n",
              "      <td>4212</td>\n",
              "      <td>Subject: \\r\\nthe permanent fix to penis growth...</td>\n",
              "      <td>1</td>\n",
              "      <td>160</td>\n",
              "    </tr>\n",
              "    <tr>\n",
              "      <th>5155</th>\n",
              "      <td>1904</td>\n",
              "      <td>Subject: cleburne - tenaska iv plant\\r\\ndaren ...</td>\n",
              "      <td>0</td>\n",
              "      <td>242</td>\n",
              "    </tr>\n",
              "    <tr>\n",
              "      <th>5168</th>\n",
              "      <td>2933</td>\n",
              "      <td>Subject: calpine daily gas nomination\\r\\n&gt;\\r\\n...</td>\n",
              "      <td>0</td>\n",
              "      <td>402</td>\n",
              "    </tr>\n",
              "  </tbody>\n",
              "</table>\n",
              "<p>178 rows × 4 columns</p>\n",
              "</div>"
            ],
            "text/plain": [
              "      # sent emails                                                text  \\\n",
              "182             4727                                      Subject: \\r\\n   \n",
              "296             4690                                      Subject: \\r\\n   \n",
              "363             4682                                      Subject: \\r\\n   \n",
              "436             2084  Subject: cornhusker up on 24 th\\r\\nspoke with ...   \n",
              "624             2034  Subject: enron / hpl actuals for november 13 ,...   \n",
              "...              ...                                                ...   \n",
              "5061            1729  Subject: tenaska iv\\r\\nbob :\\r\\ni understand f...   \n",
              "5064            4369  Subject: \\r\\nthis week only : f . ree gen . er...   \n",
              "5089            4212  Subject: \\r\\nthe permanent fix to penis growth...   \n",
              "5155            1904  Subject: cleburne - tenaska iv plant\\r\\ndaren ...   \n",
              "5168            2933  Subject: calpine daily gas nomination\\r\\n>\\r\\n...   \n",
              "\n",
              "      label_num  size text  \n",
              "182           1         11  \n",
              "296           1         11  \n",
              "363           1         11  \n",
              "436           0        300  \n",
              "624           0        119  \n",
              "...         ...        ...  \n",
              "5061          0       2424  \n",
              "5064          1        194  \n",
              "5089          1        160  \n",
              "5155          0        242  \n",
              "5168          0        402  \n",
              "\n",
              "[178 rows x 4 columns]"
            ]
          },
          "execution_count": 21,
          "metadata": {},
          "output_type": "execute_result"
        }
      ],
      "source": [
        "data[data[\"text\"].duplicated()]"
      ]
    },
    {
      "cell_type": "code",
      "execution_count": 22,
      "metadata": {
        "id": "YNmjgKWFHFy_"
      },
      "outputs": [],
      "source": [
        "data.drop(\"size text\" , axis =1 , inplace =True)"
      ]
    },
    {
      "cell_type": "code",
      "execution_count": 23,
      "metadata": {
        "colab": {
          "base_uri": "https://localhost:8080/"
        },
        "id": "y07ZnTAHHNPd",
        "outputId": "529c211c-73ea-41b6-f15e-036c309e6d7c"
      },
      "outputs": [
        {
          "name": "stdout",
          "output_type": "stream",
          "text": [
            "<class 'pandas.core.frame.DataFrame'>\n",
            "RangeIndex: 5171 entries, 0 to 5170\n",
            "Data columns (total 3 columns):\n",
            " #   Column          Non-Null Count  Dtype \n",
            "---  ------          --------------  ----- \n",
            " 0   # sent emails   5171 non-null   int64 \n",
            " 1   text            5171 non-null   object\n",
            " 2   label_num       5171 non-null   int64 \n",
            "dtypes: int64(2), object(1)\n",
            "memory usage: 121.3+ KB\n"
          ]
        }
      ],
      "source": [
        "data.info()"
      ]
    },
    {
      "cell_type": "markdown",
      "metadata": {
        "id": "zJzT0ApjpUMy"
      },
      "source": [
        "Train Test Split"
      ]
    },
    {
      "cell_type": "code",
      "execution_count": 24,
      "metadata": {
        "id": "j9IzTN9ypUMy"
      },
      "outputs": [],
      "source": [
        "X = data[\"text\"]\n",
        "Y = data[\"label_num\"]\n",
        "X_train, X_test, y_train, y_test = train_test_split(X, Y, test_size=0.2, random_state=42)"
      ]
    },
    {
      "cell_type": "markdown",
      "metadata": {
        "id": "jcfZcA2RFzRl"
      },
      "source": [
        "Feature Extraction"
      ]
    },
    {
      "cell_type": "code",
      "execution_count": 25,
      "metadata": {
        "id": "QKF12nltDgkd"
      },
      "outputs": [],
      "source": [
        "featureExtraction = TfidfVectorizer(min_df= 1, stop_words= 'english', lowercase=True)\n",
        "X_train_features = featureExtraction.fit_transform(X_train)\n",
        "X_test_features = featureExtraction.transform(X_test)\n",
        "pickle.dump(featureExtraction, open(\"featureExtractionVectorizer\" +'.pkl', 'wb'))"
      ]
    },
    {
      "cell_type": "markdown",
      "metadata": {
        "id": "7roOKbx-pUMy"
      },
      "source": [
        "Models"
      ]
    },
    {
      "cell_type": "code",
      "execution_count": 26,
      "metadata": {
        "id": "Obf7I-mZFI4N"
      },
      "outputs": [],
      "source": [
        "models = [\n",
        "    ('LogisticRegression', LogisticRegression()),\n",
        "    ('DecisionTreeClassifier', tree.DecisionTreeClassifier()),\n",
        "    ('SVC', svm.SVC(kernel='linear')),\n",
        "    ('KNeighborsClassifier', KNeighborsClassifier(n_neighbors=5)),\n",
        "    ('RandomForestClassifier', RandomForestClassifier(n_estimators=100, random_state=42)),\n",
        "    ('MultinomialNB', MultinomialNB())\n",
        "]"
      ]
    },
    {
      "cell_type": "markdown",
      "metadata": {
        "id": "V2zSk-XdGzV5"
      },
      "source": [
        "Classification Report and Confusion Matrix"
      ]
    },
    {
      "cell_type": "code",
      "execution_count": 27,
      "metadata": {
        "colab": {
          "base_uri": "https://localhost:8080/",
          "height": 1000
        },
        "id": "C-xc0mPWpUMy",
        "outputId": "fda11555-af36-4fdc-d6cf-19d6cd207719"
      },
      "outputs": [
        {
          "name": "stdout",
          "output_type": "stream",
          "text": [
            "-----------------------------------------------------\n",
            "LogisticRegression Classification Report:\n",
            "\n",
            "              precision    recall  f1-score   support\n",
            "\n",
            "           0       0.99      0.99      0.99       742\n",
            "           1       0.98      0.99      0.98       293\n",
            "\n",
            "    accuracy                           0.99      1035\n",
            "   macro avg       0.99      0.99      0.99      1035\n",
            "weighted avg       0.99      0.99      0.99      1035\n",
            "\n",
            "-----------------------------------------------------\n",
            "DecisionTreeClassifier Classification Report:\n",
            "\n",
            "              precision    recall  f1-score   support\n",
            "\n",
            "           0       0.97      0.96      0.96       742\n",
            "           1       0.90      0.92      0.91       293\n",
            "\n",
            "    accuracy                           0.95      1035\n",
            "   macro avg       0.93      0.94      0.94      1035\n",
            "weighted avg       0.95      0.95      0.95      1035\n",
            "\n",
            "-----------------------------------------------------\n",
            "SVC Classification Report:\n",
            "\n",
            "              precision    recall  f1-score   support\n",
            "\n",
            "           0       0.99      0.99      0.99       742\n",
            "           1       0.98      0.99      0.98       293\n",
            "\n",
            "    accuracy                           0.99      1035\n",
            "   macro avg       0.99      0.99      0.99      1035\n",
            "weighted avg       0.99      0.99      0.99      1035\n",
            "\n",
            "-----------------------------------------------------\n",
            "KNeighborsClassifier Classification Report:\n",
            "\n",
            "              precision    recall  f1-score   support\n",
            "\n",
            "           0       0.96      0.99      0.97       742\n",
            "           1       0.97      0.89      0.93       293\n",
            "\n",
            "    accuracy                           0.96      1035\n",
            "   macro avg       0.97      0.94      0.95      1035\n",
            "weighted avg       0.96      0.96      0.96      1035\n",
            "\n",
            "-----------------------------------------------------\n",
            "RandomForestClassifier Classification Report:\n",
            "\n",
            "              precision    recall  f1-score   support\n",
            "\n",
            "           0       0.99      0.98      0.99       742\n",
            "           1       0.95      0.98      0.97       293\n",
            "\n",
            "    accuracy                           0.98      1035\n",
            "   macro avg       0.97      0.98      0.98      1035\n",
            "weighted avg       0.98      0.98      0.98      1035\n",
            "\n",
            "-----------------------------------------------------\n",
            "MultinomialNB Classification Report:\n",
            "\n",
            "              precision    recall  f1-score   support\n",
            "\n",
            "           0       0.90      1.00      0.95       742\n",
            "           1       1.00      0.73      0.84       293\n",
            "\n",
            "    accuracy                           0.92      1035\n",
            "   macro avg       0.95      0.87      0.90      1035\n",
            "weighted avg       0.93      0.92      0.92      1035\n",
            "\n"
          ]
        },
        {
          "data": {
            "image/png": "[encoded data removed]",
            "text/plain": [
              "<Figure size 640x480 with 2 Axes>"
            ]
          },
          "metadata": {},
          "output_type": "display_data"
        },
        {
          "data": {
            "image/png": "[encoded data removed]",
            "text/plain": [
              "<Figure size 640x480 with 2 Axes>"
            ]
          },
          "metadata": {},
          "output_type": "display_data"
        },
        {
          "data": {
            "image/png": "[encoded data removed]",
            "text/plain": [
              "<Figure size 640x480 with 2 Axes>"
            ]
          },
          "metadata": {},
          "output_type": "display_data"
        },
        {
          "data": {
            "image/png": "[encoded data removed]",
            "text/plain": [
              "<Figure size 640x480 with 2 Axes>"
            ]
          },
          "metadata": {},
          "output_type": "display_data"
        },
        {
          "data": {
            "image/png": "[encoded data removed]",
            "text/plain": [
              "<Figure size 640x480 with 2 Axes>"
            ]
          },
          "metadata": {},
          "output_type": "display_data"
        },
        {
          "data": {
            "image/png": "[encoded data removed]",
            "text/plain": [
              "<Figure size 640x480 with 2 Axes>"
            ]
          },
          "metadata": {},
          "output_type": "display_data"
        }
      ],
      "source": [
        "for name, model in models:\n",
        "    model.fit(X_train_features, y_train)\n",
        "    y_pred = model.predict(X_test_features)\n",
        "    pickle.dump(model, open(name +'.pkl', 'wb'))\n",
        "    print('-----------------------------------------------------')\n",
        "    print(f\"{name} Classification Report:\\n\")\n",
        "    print(classification_report(y_test, y_pred))\n",
        "    #print(f\"{name} Confusion Matrix:\\n\")\n",
        "    #print(confusion_matrix(y_test, y_pred))\n",
        "    ConfusionMatrixDisplay(confusion_matrix(y_test,y_pred)).plot()\n",
        "    plt.title(\"Confusion Matrix for Logistic Regression Classifer\")"
      ]
    },
    {
      "cell_type": "markdown",
      "metadata": {
        "id": "KYyOCz8PGtJz"
      },
      "source": [
        "K Folds Cross Validation"
      ]
    },
    {
      "cell_type": "code",
      "execution_count": 28,
      "metadata": {
        "colab": {
          "base_uri": "https://localhost:8080/"
        },
        "id": "pLyH2YhMF-4R",
        "outputId": "6104bae7-6032-496d-a902-16098ae12c3b"
      },
      "outputs": [
        {
          "name": "stdout",
          "output_type": "stream",
          "text": [
            "LogisticRegression Accuracy: 98.86%\n",
            "DecisionTreeClassifier Accuracy: 93.89%\n",
            "SVC Accuracy: 98.98%\n",
            "KNeighborsClassifier Accuracy: 96.44%\n",
            "RandomForestClassifier Accuracy: 97.89%\n",
            "MultinomialNB Accuracy: 91.92%\n"
          ]
        }
      ],
      "source": [
        "kf = KFold(n_splits=5)\n",
        "\n",
        "for name, model in models:\n",
        "    pipe = Pipeline([\n",
        "        ('feature_extraction', TfidfVectorizer(min_df=1, stop_words='english', lowercase=True)),\n",
        "        ('model', model)\n",
        "    ])\n",
        "    scores = cross_val_score(pipe, X, Y, cv=kf)\n",
        "    accuracy = np.mean(scores)\n",
        "    print(f\"{name} Accuracy: {accuracy*100:.2f}%\")"
      ]
    },
    {
      "cell_type": "markdown",
      "metadata": {
        "id": "MLjSj7IdMDlk"
      },
      "source": [
        "Prediction Using User Input"
      ]
    },
    {
      "cell_type": "code",
      "execution_count": 29,
      "metadata": {
        "colab": {
          "base_uri": "https://localhost:8080/"
        },
        "id": "v4fYF1-hHf4h",
        "outputId": "126a37fb-4ef6-4cf7-c4df-b36e14823bd9"
      },
      "outputs": [],
      "source": [
        "x = input(\"Enter an email: \")\n",
        "\n",
        "x_input = [x]\n",
        "x_features = featureExtraction.transform(x_input)\n",
        "\n",
        "for name,model in models:\n",
        "    y_pred = model.predict(x_features)\n",
        "\n",
        "    if (y_pred == 0):\n",
        "        print(f'{name} Predict : ham')\n",
        "    else:\n",
        "        print(f'{name} Predict : spam')"
      ]
    }
  ],
  "metadata": {
    "colab": {
      "provenance": []
    },
    "kernelspec": {
      "display_name": "Python 3",
      "name": "python3"
    },
    "language_info": {
      "codemirror_mode": {
        "name": "ipython",
        "version": 3
      },
      "file_extension": ".py",
      "mimetype": "text/x-python",
      "name": "python",
      "nbconvert_exporter": "python",
      "pygments_lexer": "ipython3",
      "version": "3.12.2"
    }
  },
  "nbformat": 4,
  "nbformat_minor": 0
}
